{
 "cells": [
  {
   "cell_type": "code",
   "execution_count": 13,
   "metadata": {},
   "outputs": [],
   "source": [
    "import pandas as pd\n",
    "import numpy as np\n",
    "from sklearn.model_selection import train_test_split\n",
    "from sklearn.neighbors import KNeighborsClassifier\n"
   ]
  },
  {
   "cell_type": "code",
   "execution_count": 2,
   "metadata": {},
   "outputs": [],
   "source": [
    "import pandas_gbq\n",
    "from google.oauth2 import service_account\n",
    "\n",
    "KEYFILE = 'ensai-2025-fc6ddbb72db7.json'\n",
    "credentials=service_account.Credentials.from_service_account_file(KEYFILE)"
   ]
  },
  {
   "cell_type": "code",
   "execution_count": 3,
   "metadata": {},
   "outputs": [
    {
     "name": "stderr",
     "output_type": "stream",
     "text": [
      "/home/ensai/Bureau/Devops/TP1/env/lib/python3.10/site-packages/google/cloud/bigquery/table.py:2379: UserWarning: A progress bar was requested, but there was an error loading the tqdm library. Please install tqdm to use the progress bar functionality.\n",
      "  record_batch = self.to_arrow(\n"
     ]
    }
   ],
   "source": [
    "prenom=pandas_gbq.read_gbq('SELECT * FROM ml.prenoms LIMIT 5000', project_id='ensai-2025', credentials=credentials)"
   ]
  },
  {
   "cell_type": "code",
   "execution_count": 6,
   "metadata": {},
   "outputs": [
    {
     "data": {
      "text/html": [
       "<div>\n",
       "<style scoped>\n",
       "    .dataframe tbody tr th:only-of-type {\n",
       "        vertical-align: middle;\n",
       "    }\n",
       "\n",
       "    .dataframe tbody tr th {\n",
       "        vertical-align: top;\n",
       "    }\n",
       "\n",
       "    .dataframe thead th {\n",
       "        text-align: right;\n",
       "    }\n",
       "</style>\n",
       "<table border=\"1\" class=\"dataframe\">\n",
       "  <thead>\n",
       "    <tr style=\"text-align: right;\">\n",
       "      <th></th>\n",
       "      <th>sexe</th>\n",
       "      <th>preusuel</th>\n",
       "      <th>annais</th>\n",
       "      <th>dpt</th>\n",
       "      <th>nombre</th>\n",
       "    </tr>\n",
       "  </thead>\n",
       "  <tbody>\n",
       "    <tr>\n",
       "      <th>0</th>\n",
       "      <td>1</td>\n",
       "      <td>ARMAND</td>\n",
       "      <td>1900</td>\n",
       "      <td>75</td>\n",
       "      <td>71</td>\n",
       "    </tr>\n",
       "    <tr>\n",
       "      <th>1</th>\n",
       "      <td>1</td>\n",
       "      <td>GEORGES</td>\n",
       "      <td>1900</td>\n",
       "      <td>55</td>\n",
       "      <td>59</td>\n",
       "    </tr>\n",
       "    <tr>\n",
       "      <th>2</th>\n",
       "      <td>1</td>\n",
       "      <td>JACQUES</td>\n",
       "      <td>1900</td>\n",
       "      <td>29</td>\n",
       "      <td>47</td>\n",
       "    </tr>\n",
       "    <tr>\n",
       "      <th>3</th>\n",
       "      <td>1</td>\n",
       "      <td>PAUL</td>\n",
       "      <td>1900</td>\n",
       "      <td>12</td>\n",
       "      <td>77</td>\n",
       "    </tr>\n",
       "    <tr>\n",
       "      <th>4</th>\n",
       "      <td>1</td>\n",
       "      <td>CELESTIN</td>\n",
       "      <td>1900</td>\n",
       "      <td>23</td>\n",
       "      <td>3</td>\n",
       "    </tr>\n",
       "  </tbody>\n",
       "</table>\n",
       "</div>"
      ],
      "text/plain": [
       "  sexe  preusuel annais dpt nombre\n",
       "0    1    ARMAND   1900  75     71\n",
       "1    1   GEORGES   1900  55     59\n",
       "2    1   JACQUES   1900  29     47\n",
       "3    1      PAUL   1900  12     77\n",
       "4    1  CELESTIN   1900  23      3"
      ]
     },
     "execution_count": 6,
     "metadata": {},
     "output_type": "execute_result"
    }
   ],
   "source": [
    "prenom.head()"
   ]
  },
  {
   "cell_type": "code",
   "execution_count": 7,
   "metadata": {},
   "outputs": [],
   "source": [
    "prenom=prenom[[\"preusuel\",\"sexe\"]]"
   ]
  },
  {
   "cell_type": "code",
   "execution_count": null,
   "metadata": {},
   "outputs": [],
   "source": [
    "prenom_train,prenom_test = train_test_split(prenom, test_size=0.2, random_state=42)\n",
    "prenom_X,y=prenom[\"preusuel\"],prenom[\"sexe\"]\n",
    "X_train,y_train=prenom_train[\"preusuel\"],prenom_train[\"sexe\"]\n",
    "X_test,y_test=prenom_test[\"preusuel\"],prenom_test[\"sexe\"]"
   ]
  },
  {
   "cell_type": "code",
   "execution_count": 24,
   "metadata": {},
   "outputs": [],
   "source": [
    "# Encodage des prénoms d'entraînement avec des variables fictives\n",
    "X_train_encoded_dummies = pd.get_dummies(X_train)\n",
    "\n",
    "# Encodage des prénoms de test avec des variables fictives\n",
    "X_test_encoded_dummies = pd.get_dummies(X_test)\n",
    "\n",
    "# Assurer que les colonnes de X_test_encoded_dummies correspondent à celles de X_train_encoded_dummies\n",
    "X_test_encoded_dummies = X_test_encoded_dummies.reindex(columns=X_train_encoded_dummies.columns, fill_value=0)"
   ]
  },
  {
   "cell_type": "code",
   "execution_count": 25,
   "metadata": {},
   "outputs": [
    {
     "name": "stdout",
     "output_type": "stream",
     "text": [
      "(4000, 614)\n",
      "(1000, 614)\n"
     ]
    }
   ],
   "source": [
    "X_train_encoded_dummies = X_train_encoded_dummies.astype(int)\n",
    "X_test_encoded_dummies = X_test_encoded_dummies.astype(int)\n",
    "\n",
    "print(X_train_encoded_dummies.shape)\n",
    "print(X_test_encoded_dummies.shape)"
   ]
  },
  {
   "cell_type": "code",
   "execution_count": 29,
   "metadata": {},
   "outputs": [
    {
     "name": "stdout",
     "output_type": "stream",
     "text": [
      "Accuracy sur le jeu de test : 0.96\n",
      "Rapport de classification :\n",
      "               precision    recall  f1-score   support\n",
      "\n",
      "           1       0.92      0.99      0.95       455\n",
      "           2       0.99      0.93      0.96       545\n",
      "\n",
      "    accuracy                           0.96      1000\n",
      "   macro avg       0.96      0.96      0.96      1000\n",
      "weighted avg       0.96      0.96      0.96      1000\n",
      "\n"
     ]
    }
   ],
   "source": [
    "model = KNeighborsClassifier(n_neighbors=3)\n",
    "model.fit(X_train_encoded_dummies, y_train)\n",
    "\n",
    "\n",
    "# Étape 2 : Faire des prédictions sur le jeu de test\n",
    "y_pred = model.predict(X_test_encoded_dummies)\n",
    "\n",
    "# Étape 3 : Évaluer les performances du modèle\n",
    "accuracy = accuracy_score(y_test, y_pred)\n",
    "print(f\"Accuracy sur le jeu de test : {accuracy:.2f}\")\n",
    "\n",
    "# Étape 4 : Afficher le rapport de classification\n",
    "report = classification_report(y_test, y_pred)\n",
    "print(\"Rapport de classification :\\n\", report)"
   ]
  },
  {
   "cell_type": "code",
   "execution_count": 30,
   "metadata": {},
   "outputs": [
    {
     "name": "stdout",
     "output_type": "stream",
     "text": [
      "Accuracy sur le jeu de test : 0.95\n",
      "Rapport de classification :\n",
      "               precision    recall  f1-score   support\n",
      "\n",
      "           1       0.97      0.93      0.95       455\n",
      "           2       0.94      0.97      0.96       545\n",
      "\n",
      "    accuracy                           0.95      1000\n",
      "   macro avg       0.96      0.95      0.95      1000\n",
      "weighted avg       0.95      0.95      0.95      1000\n",
      "\n"
     ]
    }
   ],
   "source": [
    "# Importer les bibliothèques nécessaires\n",
    "from sklearn.ensemble import RandomForestClassifier\n",
    "from sklearn.metrics import classification_report, accuracy_score\n",
    "\n",
    "# Étape 1 : Créer et entraîner le modèle\n",
    "model = RandomForestClassifier(random_state=42,n_estimators=200)  # Vous pouvez choisir d'autres modèles si besoin\n",
    "model.fit(X_train_encoded_dummies, y_train)\n",
    "\n",
    "# Étape 2 : Faire des prédictions sur le jeu de test\n",
    "y_pred = model.predict(X_test_encoded_dummies)\n",
    "\n",
    "# Étape 3 : Évaluer les performances du modèle\n",
    "accuracy = accuracy_score(y_test, y_pred)\n",
    "print(f\"Accuracy sur le jeu de test : {accuracy:.2f}\")\n",
    "\n",
    "# Étape 4 : Afficher le rapport de classification\n",
    "report = classification_report(y_test, y_pred)\n",
    "print(\"Rapport de classification :\\n\", report)\n"
   ]
  },
  {
   "cell_type": "code",
   "execution_count": 31,
   "metadata": {},
   "outputs": [
    {
     "data": {
      "text/plain": [
       "['random_forest_model.pkl']"
      ]
     },
     "execution_count": 31,
     "metadata": {},
     "output_type": "execute_result"
    }
   ],
   "source": [
    "import joblib\n",
    "\n",
    "# Sauvegarder le modèle RandomForestClassifier\n",
    "joblib.dump(model, 'random_forest_model.pkl')"
   ]
  },
  {
   "cell_type": "code",
   "execution_count": 44,
   "metadata": {},
   "outputs": [
    {
     "name": "stdout",
     "output_type": "stream",
     "text": [
      "Le sexe prédit pour le prénom JEAN est : masculin\n"
     ]
    }
   ],
   "source": [
    "import pandas as pd\n",
    "\n",
    "def predict_gender(prenom, encoder, model, columns):\n",
    "\n",
    "\n",
    "# Charger le modèle préalablement sauvegardé\n",
    "    model = joblib.load('/home/ensai/Bureau/Devops/TP1/random_forest_model.pkl')\n",
    "    # Créer un DataFrame avec le prénom\n",
    "    df = pd.DataFrame([prenom], columns=['preusuel'])\n",
    "    \n",
    "    # Encoder le prénom avec des variables fictives\n",
    "    df_encoded = pd.get_dummies(df['preusuel'])\n",
    "    \n",
    "    # Assurer que les colonnes de df_encoded correspondent à celles de l'encodeur d'origine\n",
    "    df_encoded = df_encoded.reindex(columns=columns, fill_value=0)\n",
    "    \n",
    "    # Faire la prédiction\n",
    "    prediction = model.predict(df_encoded)\n",
    "    \n",
    "    # Retourner le sexe prédit\n",
    "    if prediction[0] == \"1\":\n",
    "        return \"masculin\"\n",
    "    else:\n",
    "        return \"féminin\"\n",
    "\n",
    "# Exemple d'utilisation\n",
    "prenom_a_predire = 'JEAN'\n",
    "sexe_pred = predict_gender(prenom_a_predire, encoder, model, X_train_encoded_dummies.columns)\n",
    "print(f\"Le sexe prédit pour le prénom {prenom_a_predire} est : {sexe_pred}\")\n"
   ]
  }
 ],
 "metadata": {
  "kernelspec": {
   "display_name": "env",
   "language": "python",
   "name": "python3"
  },
  "language_info": {
   "codemirror_mode": {
    "name": "ipython",
    "version": 3
   },
   "file_extension": ".py",
   "mimetype": "text/x-python",
   "name": "python",
   "nbconvert_exporter": "python",
   "pygments_lexer": "ipython3",
   "version": "3.10.12"
  }
 },
 "nbformat": 4,
 "nbformat_minor": 2
}
